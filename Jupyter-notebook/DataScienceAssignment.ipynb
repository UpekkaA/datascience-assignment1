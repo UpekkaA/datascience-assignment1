{
 "cells": [
  {
   "cell_type": "code",
   "execution_count": 68,
   "metadata": {},
   "outputs": [],
   "source": [
    "# Data Science Assignment"
   ]
  },
  {
   "cell_type": "code",
   "execution_count": 70,
   "metadata": {},
   "outputs": [
    {
     "name": "stdout",
     "output_type": "stream",
     "text": [
      "[277, 293, 296, 304, 289, 289, 242, 284, 301, 276, 249, 246, 222, 220, 204, 194, 190, 132, 115, 134, 99]\n"
     ]
    },
    {
     "data": {
      "image/png": "[encoded data removed]",
      "text/plain": [
       "<Figure size 504x360 with 1 Axes>"
      ]
     },
     "metadata": {
      "needs_background": "light"
     },
     "output_type": "display_data"
    }
   ],
   "source": [
    "#Age distribution of the sample\n",
    "import csv\n",
    "import numpy as np\n",
    "\n",
    "import matplotlib.pyplot as plt\n",
    "%matplotlib inline\n",
    "\n",
    "def frequency(a, x): \n",
    "    count = 0\n",
    "      \n",
    "    for i in a: \n",
    "        if i == x: count += 1\n",
    "    return count \n",
    "\n",
    "with open('PSID.csv') as csvfile:\n",
    "    readCSV = csv.reader(csvfile, delimiter=',')\n",
    "    ages = []\n",
    "    educations = []\n",
    "    hours = []\n",
    "    kids = []\n",
    "    statuses = []\n",
    "    earnings = []\n",
    "    for row in readCSV:\n",
    "        age = row[3]\n",
    "        education = row[4]\n",
    "        earning = row[5]\n",
    "        hour = row[6]\n",
    "        kid = row[7]\n",
    "        status = row[8]\n",
    "\n",
    "        ages.append(age)\n",
    "        educations.append(education)\n",
    "        earnings.append(earning)\n",
    "        kids.append(kid)\n",
    "        hours.append(hour)\n",
    "        statuses.append(status)\n",
    "       \n",
    "    age_distr= np.unique(ages)\n",
    "    labels = ['30','31','32','33','34','35','36','37','38','39','40','41','42','43','44','45','46','47','48','49','50']\n",
    "    age_freq = [frequency(ages,'30'),frequency(ages,'31'),frequency(ages,'32'),frequency(ages,'33'),frequency(ages,'34'),\n",
    "                frequency(ages,'35'),frequency(ages,'36'),frequency(ages,'37'),frequency(ages,'38'),frequency(ages,'39'),\n",
    "                frequency(ages,'40'),frequency(ages,'41'),frequency(ages,'42'),frequency(ages,'43'),frequency(ages,'44'),\n",
    "                frequency(ages,'45'),frequency(ages,'46'),frequency(ages,'47'),frequency(ages,'48'),frequency(ages,'49'),frequency(ages,'50')]\n",
    "    print(age_freq)\n",
    "   \n",
    "    x_pos = np.arange(len(age_freq))\n",
    "\n",
    "    fig, ax = plt.subplots(figsize=(7, 5))\n",
    "    ax.bar(x_pos, age_freq, align='center')\n",
    "    ax.set_xticks(x_pos)\n",
    "    ax.set_xticklabels(labels)\n",
    "    ax.set_xlabel(\"Age\")\n",
    "    ax.set_ylabel(\"Number of participants\")\n",
    "    ax.set_title(\"Age Distribution\")\n",
    " \n",
    "  \n",
    "    #print(ages)\n",
    "    #print(educations)"
   ]
  },
  {
   "cell_type": "code",
   "execution_count": 78,
   "metadata": {},
   "outputs": [
    {
     "data": {
      "image/png": "[encoded data removed]",
      "text/plain": [
       "<Figure size 504x360 with 1 Axes>"
      ]
     },
     "metadata": {
      "needs_background": "light"
     },
     "output_type": "display_data"
    }
   ],
   "source": [
    "#Education distribution of the sample\n",
    "import csv\n",
    "import numpy as np\n",
    "\n",
    "import matplotlib.pyplot as plt\n",
    "%matplotlib inline\n",
    "\n",
    "def frequency(a, x): \n",
    "    count = 0\n",
    "      \n",
    "    for i in a: \n",
    "        if i == x: count += 1\n",
    "    return count \n",
    "\n",
    "with open('PSID.csv') as csvfile:\n",
    "    readCSV = csv.reader(csvfile, delimiter=',')\n",
    "    educations = []\n",
    "    hours = []\n",
    "    kids = []\n",
    "    statuses = []\n",
    "    earnings = []\n",
    "    for row in readCSV:\n",
    "        education = row[4]\n",
    "        earning = row[5]\n",
    "        hour = row[6]\n",
    "        kid = row[7]\n",
    "        status = row[8]\n",
    "\n",
    "        ages.append(age)\n",
    "        educations.append(education)\n",
    "        earnings.append(earning)\n",
    "        kids.append(kid)\n",
    "        hours.append(hour)\n",
    "        statuses.append(status)\n",
    "       \n",
    "    education_distr= np.unique(educations)\n",
    "    #print(education_distr)\n",
    "    labels = ['0','1','2','3','4','5','6','7','8','9','10','11','12','13','14','15','16','17']\n",
    "    education_freq = [frequency(educations,'0'),frequency(educations,'1'),frequency(educations,'2'),frequency(educations,'3'),frequency(educations,'4'),\n",
    "               frequency(educations,'5'),frequency(educations,'6'),frequency(educations,'7'),frequency(educations,'8'),frequency(educations,'9'),\n",
    "                frequency(educations,'10'),frequency(educations,'11'),frequency(educations,'12'),frequency(educations,'13'),frequency(educations,'14'),\n",
    "                frequency(educations,'15'),frequency(educations,'16'),frequency(educations,'17')]\n",
    "   \n",
    "    x_pos = np.arange(len(education_freq))\n",
    "\n",
    "    fig, ax = plt.subplots(figsize=(7, 5))\n",
    "    ax.bar(x_pos, education_freq, align='center')\n",
    "    ax.set_xticks(x_pos)\n",
    "    ax.set_xticklabels(labels)\n",
    "    ax.set_xlabel(\"Education Level\")\n",
    "    ax.set_ylabel(\"Number of participants\")\n",
    "    ax.set_title(\"Education Distribution\")\n",
    " "
   ]
  },
  {
   "cell_type": "code",
   "execution_count": null,
   "metadata": {},
   "outputs": [],
   "source": [
    "#Education distribution of the sample\n",
    "import csv\n",
    "import numpy as np\n",
    "\n",
    "import matplotlib.pyplot as plt\n",
    "%matplotlib inline\n",
    "\n",
    "def frequency(a, x): \n",
    "    count = 0\n",
    "      \n",
    "    for i in a: \n",
    "        if i == x: count += 1\n",
    "    return count \n",
    "\n",
    "with open('PSID.csv') as csvfile:\n",
    "    readCSV = csv.reader(csvfile, delimiter=',')\n",
    "    hours = []\n",
    "    kids = []\n",
    "    statuses = []\n",
    "    earnings = []\n",
    "    earnings = []\n",
    "    for row in readCSV:\n",
    "        education = row[4]\n",
    "        earning = row[5]\n",
    "        hour = row[6]\n",
    "        kid = row[7]\n",
    "        status = row[8]\n",
    "\n",
    "        ages.append(age)\n",
    "        educations.append(education)\n",
    "        earnings.append(earning)\n",
    "        kids.append(kid)\n",
    "        hours.append(hour)\n",
    "        statuses.append(status)\n",
    "       \n",
    "    education_distr= np.unique(educations)\n",
    "    #print(education_distr)\n",
    "    labels = ['0','1','2','3','4','5','6','7','8','9','10','11','12','13','14','15','16','17']\n",
    "    education_freq = [frequency(educations,'0'),frequency(educations,'1'),frequency(educations,'2'),frequency(educations,'3'),frequency(educations,'4'),\n",
    "               frequency(educations,'5'),frequency(educations,'6'),frequency(educations,'7'),frequency(educations,'8'),frequency(educations,'9'),\n",
    "                frequency(educations,'10'),frequency(educations,'11'),frequency(educations,'12'),frequency(educations,'13'),frequency(educations,'14'),\n",
    "                frequency(educations,'15'),frequency(educations,'16'),frequency(educations,'17')]\n",
    "   \n",
    "    x_pos = np.arange(len(education_freq))\n",
    "\n",
    "    fig, ax = plt.subplots(figsize=(7, 5))\n",
    "    ax.bar(x_pos, education_freq, align='center')\n",
    "    ax.set_xticks(x_pos)\n",
    "    ax.set_xticklabels(labels)\n",
    "    ax.set_xlabel(\"Education Level\")\n",
    "    ax.set_ylabel(\"Number of participants\")\n",
    "    ax.set_title(\"Education Distribution\")\n",
    " "
   ]
  }
 ],
 "metadata": {
  "kernelspec": {
   "display_name": "Python 3",
   "language": "python",
   "name": "python3"
  },
  "language_info": {
   "codemirror_mode": {
    "name": "ipython",
    "version": 3
   },
   "file_extension": ".py",
   "mimetype": "text/x-python",
   "name": "python",
   "nbconvert_exporter": "python",
   "pygments_lexer": "ipython3",
   "version": "3.7.1"
  }
 },
 "nbformat": 4,
 "nbformat_minor": 2
}
