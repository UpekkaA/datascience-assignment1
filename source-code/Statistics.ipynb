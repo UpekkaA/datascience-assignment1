{
 "cells": [
  {
   "cell_type": "code",
   "execution_count": 96,
   "metadata": {},
   "outputs": [
    {
     "name": "stdout",
     "output_type": "stream",
     "text": [
      "╒═════════════╤═══════╤═══════════╤══════════╤══════════╤══════════╕\n",
      "│ Parameter   │   Min │       Max │     Mean │       SD │   Median │\n",
      "╞═════════════╪═══════╪═══════════╪══════════╪══════════╪══════════╡\n",
      "│ Age         │    30 │     50    │    38.46 │     5.59 │     38   │\n",
      "├─────────────┼───────┼───────────┼──────────┼──────────┼──────────┤\n",
      "│ Education   │     0 │     99    │    16.38 │    18.45 │     12   │\n",
      "├─────────────┼───────┼───────────┼──────────┼──────────┼──────────┤\n",
      "│ Earnings    │     0 │ 240000    │ 14244.5  │ 15983.8  │  11000   │\n",
      "├─────────────┼───────┼───────────┼──────────┼──────────┼──────────┤\n",
      "│ Hours       │     0 │   5160    │  1235.33 │   947.08 │   1517   │\n",
      "├─────────────┼───────┼───────────┼──────────┼──────────┼──────────┤\n",
      "│ Kids        │     0 │     99    │     4.48 │    14.89 │      2   │\n",
      "├─────────────┼───────┼───────────┼──────────┼──────────┼──────────┤\n",
      "│ Hourly Wage │     0 │    364.24 │     9.81 │    16.41 │      7.3 │\n",
      "╘═════════════╧═══════╧═══════════╧══════════╧══════════╧══════════╛\n"
     ]
    }
   ],
   "source": [
    "#Calcuate statistics for distribution of the sample\n",
    "#pip install tabulate\n",
    "import csv\n",
    "import numpy as np\n",
    "\n",
    "with open('resources/PSID.csv') as csvfile:\n",
    "    readCSV = csv.reader(csvfile, delimiter=',')\n",
    "    \n",
    "    data = []\n",
    "    for row in readCSV:\n",
    "        data.append(row)\n",
    "    Header = data[0]\n",
    "    data.pop(0)\n",
    "    earnings = []\n",
    "    age = []\n",
    "    education_level = []\n",
    "    hours_worked = []\n",
    "    no_of_kids = []\n",
    "    hourly_wage = []\n",
    "    # ========================================\n",
    "\n",
    "    for i in range(len(data)):\n",
    "        earnings.append(int(data[i][5]))\n",
    "        age.append(int(data[i][3]))\n",
    "        if data[i][4].isdigit():\n",
    "            education_level.append(int(data[i][4]))\n",
    "        hours_worked.append(int(data[i][6]))\n",
    "        no_of_kids.append(int(data[i][7]))\n",
    "        #hourly wage = earnings/no of hours worked\n",
    "        if int(data[i][6]) > 0: \n",
    "            hourly_wage.append(int(data[i][5])/int(data[i][6]))  \n",
    "        else: \n",
    "            hourly_wage.append(0)                   \n",
    "            \n",
    "    output_data = []\n",
    "    output_data.append(['Age', round(np.min(age),2), round(np.max(age),2), round(np.mean(age),2), round(np.std(age),2), round(np.median(age),2)])\n",
    "    output_data.append(['Education', round(np.min(education_level),2), round(np.max(education_level),2), round(np.mean(education_level),2), round(np.std(education_level),2), round(np.median(education_level),2)])\n",
    "    output_data.append(['Earnings', round(np.min(earnings),2), round(np.max(earnings),2), round(np.mean(earnings),2), round(np.std(earnings),2), round(np.median(earnings),2)])\n",
    "    output_data.append(['Hours', round(np.min(hours_worked),2), round(np.max(hours_worked),2), round(np.mean(hours_worked),2), round(np.std(hours_worked),2), round(np.median(hours_worked),2)])\n",
    "    output_data.append(['Kids', round(np.min(no_of_kids),2), round(np.max(no_of_kids),2), round(np.mean(no_of_kids),2), round(np.std(no_of_kids),2), round(np.median(no_of_kids),2)])\n",
    "    output_data.append(['Hourly Wage', round(np.min(hourly_wage),2), round(np.max(hourly_wage),2), round(np.mean(hourly_wage),2), round(np.std(hourly_wage),2), round(np.median(hourly_wage),2)])\n",
    "    \n",
    "    m = np.array(output_data)\n",
    "    headers = ['Parameter','Min', 'Max', 'Mean', 'SD', 'Median']\n",
    "    table = tabulate(m, headers, tablefmt=\"fancy_grid\")\n",
    "    print(table)"
   ]
  },
  {
   "cell_type": "code",
   "execution_count": 97,
   "metadata": {},
   "outputs": [
    {
     "name": "stdout",
     "output_type": "stream",
     "text": [
      "╒═════════════╤═══════╤═══════════╤══════════╤══════════╤══════════╕\n",
      "│ Parameter   │   Min │       Max │     Mean │       SD │   Median │\n",
      "╞═════════════╪═══════╪═══════════╪══════════╪══════════╪══════════╡\n",
      "│ Age         │    30 │     50    │    38.46 │     5.59 │     38   │\n",
      "├─────────────┼───────┼───────────┼──────────┼──────────┼──────────┤\n",
      "│ Education   │     0 │     17    │    12.36 │     3.05 │     12   │\n",
      "├─────────────┼───────┼───────────┼──────────┼──────────┼──────────┤\n",
      "│ Earnings    │     0 │ 240000    │ 14244.5  │ 15983.8  │  11000   │\n",
      "├─────────────┼───────┼───────────┼──────────┼──────────┼──────────┤\n",
      "│ Hours       │     0 │   5160    │  1235.33 │   947.08 │   1517   │\n",
      "├─────────────┼───────┼───────────┼──────────┼──────────┼──────────┤\n",
      "│ Kids        │     0 │     10    │     2.14 │     1.43 │      2   │\n",
      "├─────────────┼───────┼───────────┼──────────┼──────────┼──────────┤\n",
      "│ Hourly Wage │     0 │    364.24 │     9.81 │    16.41 │      7.3 │\n",
      "╘═════════════╧═══════╧═══════════╧══════════╧══════════╧══════════╛\n"
     ]
    }
   ],
   "source": [
    "#Calcuate statistics for distribution of the sample after removing unrealistic data\n",
    "#pip install tabulate\n",
    "import csv\n",
    "import numpy as np\n",
    "\n",
    "with open('resources/PSID.csv') as csvfile:\n",
    "    readCSV = csv.reader(csvfile, delimiter=',')\n",
    "    \n",
    "    data = []\n",
    "    for row in readCSV:\n",
    "        data.append(row)\n",
    "    Header = data[0]\n",
    "    data.pop(0)\n",
    "    earnings = []\n",
    "    age = []\n",
    "    education_level = []\n",
    "    hours_worked = []\n",
    "    no_of_kids = []\n",
    "    hourly_wage = []\n",
    "    # ========================================\n",
    "    for i in range(len(data)):\n",
    "        earnings.append(int(data[i][5]))\n",
    "        age.append(int(data[i][3]))\n",
    "        hours_worked.append(int(data[i][6]))\n",
    "        #ommit the unralisticc data, assume education level is between 0 and 17\n",
    "        if data[i][4].isdigit() and int(data[i][4]) <= 17: \n",
    "            education_level.append(int(data[i][4]))\n",
    "        #ommit the unralisticc data, assume number of kids is between 0 and 10\n",
    "        if data[i][7].isdigit() and int(data[i][7]) <= 10:\n",
    "            no_of_kids.append(int(data[i][7]))\n",
    "        #hourly wage = earnings/no of hours worked\n",
    "        if int(data[i][6]) > 0: \n",
    "            hourly_wage.append(int(data[i][5])/int(data[i][6]))  \n",
    "        else: \n",
    "            hourly_wage.append(0)                   \n",
    "            \n",
    "    output_data = []\n",
    "    output_data.append(['Age', round(np.min(age),2), round(np.max(age),2), round(np.mean(age),2), round(np.std(age),2), round(np.median(age),2)])\n",
    "    output_data.append(['Education', round(np.min(education_level),2), round(np.max(education_level),2), round(np.mean(education_level),2), round(np.std(education_level),2), round(np.median(education_level),2)])\n",
    "    output_data.append(['Earnings', round(np.min(earnings),2), round(np.max(earnings),2), round(np.mean(earnings),2), round(np.std(earnings),2), round(np.median(earnings),2)])\n",
    "    output_data.append(['Hours', round(np.min(hours_worked),2), round(np.max(hours_worked),2), round(np.mean(hours_worked),2), round(np.std(hours_worked),2), round(np.median(hours_worked),2)])\n",
    "    output_data.append(['Kids', round(np.min(no_of_kids),2), round(np.max(no_of_kids),2), round(np.mean(no_of_kids),2), round(np.std(no_of_kids),2), round(np.median(no_of_kids),2)])\n",
    "    output_data.append(['Hourly Wage', round(np.min(hourly_wage),2), round(np.max(hourly_wage),2), round(np.mean(hourly_wage),2), round(np.std(hourly_wage),2), round(np.median(hourly_wage),2)])\n",
    "    \n",
    "    m = np.array(output_data)\n",
    "    headers = ['Parameter','Min', 'Max', 'Mean', 'SD', 'Median']\n",
    "    table = tabulate(m, headers, tablefmt=\"fancy_grid\")\n",
    "    print(table)"
   ]
  },
  {
   "cell_type": "code",
   "execution_count": null,
   "metadata": {},
   "outputs": [],
   "source": [
    "\n",
    "    "
   ]
  },
  {
   "cell_type": "code",
   "execution_count": null,
   "metadata": {},
   "outputs": [],
   "source": []
  },
  {
   "cell_type": "code",
   "execution_count": null,
   "metadata": {},
   "outputs": [],
   "source": []
  }
 ],
 "metadata": {
  "kernelspec": {
   "display_name": "Python 3",
   "language": "python",
   "name": "python3"
  },
  "language_info": {
   "codemirror_mode": {
    "name": "ipython",
    "version": 3
   },
   "file_extension": ".py",
   "mimetype": "text/x-python",
   "name": "python",
   "nbconvert_exporter": "python",
   "pygments_lexer": "ipython3",
   "version": "3.7.1"
  }
 },
 "nbformat": 4,
 "nbformat_minor": 2
}
