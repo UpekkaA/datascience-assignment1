{
 "cells": [
  {
   "cell_type": "code",
   "execution_count": 16,
   "metadata": {},
   "outputs": [
    {
     "name": "stdout",
     "output_type": "stream",
     "text": [
      "Mean - earnings:     14244.506177924217\n",
      "SD - earnings:       15983.801416224682\n",
      "Mean - age:     38.46293245469522\n",
      "SD - age:       5.594539580166877\n",
      "Mean - education level:     16.377136972193615\n",
      "SD - education level:       18.447601426587006\n",
      "Mean - hours worked:     1235.3348434925865\n",
      "SD - hours worked:       947.0783052186945\n",
      "Mean - no of kids:     4.481260296540363\n",
      "SD - no of kids:       14.886323059343383\n"
     ]
    }
   ],
   "source": [
    "#Calcuate statistics for distribution of the sample\n",
    "import csv\n",
    "import numpy as np\n",
    "\n",
    "with open('resources/PSID.csv') as csvfile:\n",
    "    readCSV = csv.reader(csvfile, delimiter=',')\n",
    "    \n",
    "    data = []\n",
    "    for row in readCSV:\n",
    "        data.append(row)\n",
    "    Header = data[0]\n",
    "    data.pop(0)\n",
    "    earnings = []\n",
    "    age = []\n",
    "    education_level = []\n",
    "    hours_worked = []\n",
    "    no_of_kids = []\n",
    "    # ========================================\n",
    "\n",
    "    for i in range(len(data)):\n",
    "        earnings.append(int(data[i][5]))\n",
    "        age.append(int(data[i][3]))\n",
    "        if data[i][4].isdigit():\n",
    "            education_level.append(int(data[i][4]))\n",
    "        hours_worked.append(int(data[i][6]))\n",
    "        no_of_kids.append(int(data[i][7]))\n",
    "        \n",
    "    print ('Mean - earnings:    ', (np.mean(earnings)))\n",
    "    print ('SD - earnings:      ', (np.std(earnings)))\n",
    "    \n",
    "    print ('Mean - age:    ', (np.mean(age)))\n",
    "    print ('SD - age:      ', (np.std(age)))\n",
    "    \n",
    "    print ('Mean - education level:    ', (np.mean(education_level)))\n",
    "    print ('SD - education level:      ', (np.std(education_level)))\n",
    "    \n",
    "    print ('Mean - hours worked:    ', (np.mean(hours_worked)))\n",
    "    print ('SD - hours worked:      ', (np.std(hours_worked)))\n",
    "    \n",
    "    print ('Mean - no of kids:    ', (np.mean(no_of_kids)))\n",
    "    print ('SD - no of kids:      ', (np.std(no_of_kids)))"
   ]
  },
  {
   "cell_type": "code",
   "execution_count": null,
   "metadata": {},
   "outputs": [],
   "source": []
  }
 ],
 "metadata": {
  "kernelspec": {
   "display_name": "Python 3",
   "language": "python",
   "name": "python3"
  },
  "language_info": {
   "codemirror_mode": {
    "name": "ipython",
    "version": 3
   },
   "file_extension": ".py",
   "mimetype": "text/x-python",
   "name": "python",
   "nbconvert_exporter": "python",
   "pygments_lexer": "ipython3",
   "version": "3.7.1"
  }
 },
 "nbformat": 4,
 "nbformat_minor": 2
}
