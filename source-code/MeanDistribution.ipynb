#Mean of the hourly salary rate distribution of the sample
import csv
import numpy as np
import pandas as pd

import matplotlib.pyplot as plt
%matplotlib inline

def frequency(a, x): 
    count = 0
      
    for i in a: 
        if i == x: count += 1
    return count 

with open('resources/PSID.csv') as csvfile:
    readCSV = csv.reader(csvfile, delimiter=',')
    hourly_rates = []
    hourly_rates_mean = []
    mean_freq = []
    hourly_mean_dis = []
    
    for row in readCSV:
        hourly_rate = row[9]
        hourly_rates.append(hourly_rate)
    
    df = pd.DataFrame(hourly_rates);
    for i in range (100) :
        df_mean = df.sample(1000)
        hourly_rates_mean.append(round(df_mean.iloc[0].mean(),2))
    
    print(hourly_rates_mean)
    hourly_mean_dis = np.unique(hourly_rates_mean)
    for meanf in hourly_mean_dis:
        mean_freq.append(frequency(hourly_rates_mean, meanf))
     
    
    x_pos = np.arange(len(hourly_mean_dis))

    fig, ax = plt.subplots(figsize=(20, 10))
    ax.bar(x_pos, mean_freq, align='center')
    ax.set_xticks(x_pos)
    ax.set_xticklabels(hourly_mean_dis, rotation = 90, ha="right")
    ax.set_xlabel("Mean distribution of the hourly wages")
    ax.set_ylabel("Number of occurance")
    ax.set_title("Mean of the hourly wage")